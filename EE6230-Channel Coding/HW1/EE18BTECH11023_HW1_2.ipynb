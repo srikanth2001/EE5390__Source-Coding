{
 "cells": [
  {
   "cell_type": "code",
   "execution_count": 2,
   "id": "8a91ee7a",
   "metadata": {},
   "outputs": [
    {
     "name": "stdout",
     "output_type": "stream",
     "text": [
      "BER: 0.33518333333333333\n"
     ]
    }
   ],
   "source": [
    "import numpy as np\n",
    "\n",
    "x = (np.load('./mss.npy')).flatten()\n",
    "p = [[0.2718549983, 0.7281450017], [0.6653328103, 0.3346671897]] # P(Y|X) matrix\n",
    "\n",
    "y = np.zeros(len(x))\n",
    "x_i = np.zeros(len(x))\n",
    "for i in range(len(x)):\n",
    "    y[i] = np.random.binomial(1, p[1][x[i]])\n",
    "    if p[0][int(y[i])] >= p[1][int(y[i])]:\n",
    "        x_i[i] = 0\n",
    "    else:\n",
    "        x_i[i] = 1\n",
    "\n",
    "print(\"BER:\", np.sum(x != x_i) / len(x))"
   ]
  },
  {
   "cell_type": "code",
   "execution_count": null,
   "id": "5727a8b3",
   "metadata": {},
   "outputs": [],
   "source": []
  }
 ],
 "metadata": {
  "kernelspec": {
   "display_name": "Python 3",
   "language": "python",
   "name": "python3"
  },
  "language_info": {
   "codemirror_mode": {
    "name": "ipython",
    "version": 3
   },
   "file_extension": ".py",
   "mimetype": "text/x-python",
   "name": "python",
   "nbconvert_exporter": "python",
   "pygments_lexer": "ipython3",
   "version": "3.7.9"
  }
 },
 "nbformat": 4,
 "nbformat_minor": 5
}
