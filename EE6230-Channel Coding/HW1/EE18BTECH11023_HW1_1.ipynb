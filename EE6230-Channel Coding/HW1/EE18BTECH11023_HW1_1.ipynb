{
 "cells": [
  {
   "cell_type": "code",
   "execution_count": 6,
   "id": "b877f67e",
   "metadata": {},
   "outputs": [
    {
     "name": "stdout",
     "output_type": "stream",
     "text": [
      "Problem status:  optimal\n",
      "Optimal value of C = 0.09222\n",
      "Optimal variable x = \n",
      " [0.511 0.489]\n"
     ]
    },
    {
     "name": "stderr",
     "output_type": "stream",
     "text": [
      "c:\\users\\srikanthkamparaju\\appdata\\local\\programs\\python\\python37\\lib\\site-packages\\cvxpy\\expressions\\expression.py:556: UserWarning: \n",
      "This use of ``*`` has resulted in matrix multiplication.\n",
      "Using ``*`` for matrix multiplication has been deprecated since CVXPY 1.1.\n",
      "    Use ``*`` for matrix-scalar and vector-scalar multiplication.\n",
      "    Use ``@`` for matrix-matrix and matrix-vector multiplication.\n",
      "    Use ``multiply`` for elementwise multiplication.\n",
      "This code path has been hit 11 times so far.\n",
      "\n",
      "  warnings.warn(msg, UserWarning)\n",
      "c:\\users\\srikanthkamparaju\\appdata\\local\\programs\\python\\python37\\lib\\site-packages\\cvxpy\\expressions\\expression.py:556: UserWarning: \n",
      "This use of ``*`` has resulted in matrix multiplication.\n",
      "Using ``*`` for matrix multiplication has been deprecated since CVXPY 1.1.\n",
      "    Use ``*`` for matrix-scalar and vector-scalar multiplication.\n",
      "    Use ``@`` for matrix-matrix and matrix-vector multiplication.\n",
      "    Use ``multiply`` for elementwise multiplication.\n",
      "This code path has been hit 12 times so far.\n",
      "\n",
      "  warnings.warn(msg, UserWarning)\n"
     ]
    }
   ],
   "source": [
    "import cvxpy as cp\n",
    "import numpy as np\n",
    "np.set_printoptions(precision=3)\n",
    "n = 2\n",
    "m = 2\n",
    "P = np.array([[0.2050078785,0.7949921215],\n",
    "              [0.7316819956,0.2683180044]])\n",
    "sum_x=1\n",
    "x = cp.Variable(shape=n)\n",
    "y = P*x\n",
    "c = np.sum(P*np.log2(P),axis=0)\n",
    "I = c*x + cp.sum(cp.entr(y))\n",
    "obj = cp.Minimize(-I)\n",
    "constraints = [cp.sum(x) == sum_x,x >= 0]\n",
    "prob = cp.Problem(obj,constraints)\n",
    "prob.solve()\n",
    "if prob.status=='optimal':\n",
    "    states= prob.status\n",
    "    C = prob.value\n",
    "    x = x.value\n",
    "else:\n",
    "    states= prob.status\n",
    "    C = np.nan\n",
    "    x = np.nan\n",
    "    \n",
    "print('Problem status: ',states)\n",
    "print('Optimal value of C = {:.4g}'.format(C))\n",
    "print('Optimal variable x = \\n', x)"
   ]
  },
  {
   "cell_type": "code",
   "execution_count": null,
   "id": "1e43e48b",
   "metadata": {},
   "outputs": [],
   "source": []
  },
  {
   "cell_type": "code",
   "execution_count": null,
   "id": "b10b2b19",
   "metadata": {},
   "outputs": [],
   "source": []
  }
 ],
 "metadata": {
  "kernelspec": {
   "display_name": "Python 3",
   "language": "python",
   "name": "python3"
  },
  "language_info": {
   "codemirror_mode": {
    "name": "ipython",
    "version": 3
   },
   "file_extension": ".py",
   "mimetype": "text/x-python",
   "name": "python",
   "nbconvert_exporter": "python",
   "pygments_lexer": "ipython3",
   "version": "3.7.9"
  }
 },
 "nbformat": 4,
 "nbformat_minor": 5
}
