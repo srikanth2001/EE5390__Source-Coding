{
 "cells": [
  {
   "cell_type": "code",
   "execution_count": 8,
   "id": "certified-sailing",
   "metadata": {},
   "outputs": [
    {
     "name": "stdout",
     "output_type": "stream",
     "text": [
      "7.487884764966584e-05\n",
      "0.0002507856700408361\n",
      "0.0006804796531162913\n",
      "0.0020442163627335526\n",
      "0.005546758876538147\n",
      "0.015050527231527158\n",
      "0.040837969522178975\n",
      "0.11080939086312629\n",
      "0.3328804453\n",
      "0.3685424963\n",
      "0.3685424963\n",
      "0\n",
      "0\n",
      "0\n",
      "0\n",
      "0.3685424963\n",
      "0\n",
      "0.7014229416\n",
      "0.3685424963\n",
      "0.49219243289351533\n",
      "17\n"
     ]
    }
   ],
   "source": [
    "import math\n",
    "\n",
    "def prob(s):\n",
    "  p =1\n",
    "  for i in range(len(s)):\n",
    "    if(s[i]=='a'):\n",
    "      p = p*pa\n",
    "    elif(s[i]=='b'):\n",
    "      p = p*pb\n",
    "    else:\n",
    "      p = p*pc\n",
    "  return p\n",
    "#x =\"cbaaaaabcb\"\n",
    "m = []\n",
    "x =\"bbaaaabacb\"\n",
    "pa = 0.3685424963\n",
    "pb =0.3328804453\n",
    "pc = 0.2985770584\n",
    "for i in range(0,len(x)-1):\n",
    "  t = prob(x[0:len(x)-i-1])\n",
    "  m.append(t)\n",
    "  print(t)\n",
    "def G(s):\n",
    "  if(s=='a'):\n",
    "    return 0\n",
    "  elif(s=='b'):\n",
    "    return pa\n",
    "  else:\n",
    "    return pa+pb\n",
    "\n",
    "n = []\n",
    "for i in range(0,len(x)):\n",
    "  if(x[i]=='a'):\n",
    "    n.append(0)\n",
    "    print(0)\n",
    "  elif(x[i]=='b'):\n",
    "    n.append(pa)\n",
    "    print(pa)\n",
    "  else:\n",
    "    n.append(pa+pb)\n",
    "    print(pa+pb)\n",
    "\n",
    "l = 0\n",
    "l = l+n[0]\n",
    "th = 0\n",
    "th = th+n[0]\n",
    "for i in range(len(m)):\n",
    "  th = th+m[i]*n[len(n)-1-i]\n",
    "print(th+(prob(x)/2))\n",
    "print(int(math.log(1/prob(x),2))+2)"
   ]
  },
  {
   "cell_type": "code",
   "execution_count": null,
   "id": "agricultural-swift",
   "metadata": {},
   "outputs": [],
   "source": []
  },
  {
   "cell_type": "code",
   "execution_count": null,
   "id": "owned-spell",
   "metadata": {},
   "outputs": [],
   "source": []
  }
 ],
 "metadata": {
  "kernelspec": {
   "display_name": "Python 3.8.5 64-bit",
   "language": "python",
   "name": "python38564bit1cbcbbd55ec842de910363baa3536cbc"
  },
  "language_info": {
   "codemirror_mode": {
    "name": "ipython",
    "version": 3
   },
   "file_extension": ".py",
   "mimetype": "text/x-python",
   "name": "python",
   "nbconvert_exporter": "python",
   "pygments_lexer": "ipython3",
   "version": "3.8.5"
  }
 },
 "nbformat": 4,
 "nbformat_minor": 5
}
